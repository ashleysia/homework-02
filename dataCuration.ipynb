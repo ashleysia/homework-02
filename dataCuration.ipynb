{
 "metadata": {
  "name": "dataCuration"
 },
 "nbformat": 3,
 "nbformat_minor": 0,
 "worksheets": [
  {
   "cells": [
    {
     "cell_type": "code",
     "collapsed": false,
     "input": "import gspread\nimport os.path\nimport ConfigParser\n\nhome = os.path.expanduser(\"~\")\nconfigfile = os.path.join(home, 'stat157.cfg')\nconfig = ConfigParser.SafeConfigParser()\nconfig.read(configfile)\nusername = config.get('google', 'username')\npassword = config.get('google', 'password')\ngc = gspread.login( username, password)\ngc.login( )\n\nquestionnaire = 'Copy of Stat 157 Questionnaire (Results Redacted)'\nrawQuestionnaireResults = gc.open( questionnaire).sheet1\nprint rawQuestionnaireResults",
     "language": "python",
     "metadata": {},
     "outputs": [
      {
       "output_type": "stream",
       "stream": "stdout",
       "text": "<Worksheet 'Form Responses' id:od6>\n"
      }
     ],
     "prompt_number": 52
    },
    {
     "cell_type": "code",
     "collapsed": false,
     "input": "learningStyleQuestionCell = rawQuestionnaireResults.find(\"What is your learning style?\")\nlearningStyleList = rawQuestionnaireResults.col_values(learningStyleQuestionCell.col)\nprint len(learningStyleList)\n# print learningStyleList\n\nRESULTS_END = len(learningStyleList)\nRESULTS_START = 3",
     "language": "python",
     "metadata": {},
     "outputs": [
      {
       "output_type": "stream",
       "stream": "stdout",
       "text": "49\n"
      }
     ],
     "prompt_number": 53
    },
    {
     "cell_type": "code",
     "collapsed": false,
     "input": "LEARNING_STYLE_COLUMN_INDEX = 12\n\nLEARNING_STYLE_LIST = ['Visual', 'Aural', 'Read/Write', 'Kinesthetic']\nROLES_LIST = ['Producer', 'Administrator', 'Entrepreneur', 'Integrator']\nROLES_INDICES_LIST = [13, 14, 15, 16]\n\nimport re\n\ndef extractDataFromRow(row):\n    learningStyleCell = rawQuestionnaireResults.cell(row, LEARNING_STYLE_COLUMN_INDEX).value\n    if learningStyleCell == None:\n        return None\n    styleScores = re.findall('[0-9]+', learningStyleCell)\n    if len(styleScores) != 4:\n        return None\n    person = dict()\n    for i in range(len(LEARNING_STYLE_LIST)):\n        person[LEARNING_STYLE_LIST[i]] = int(styleScores[i])\n    for i in range(len(ROLES_INDICES_LIST)):\n        roleCell = rawQuestionnaireResults.cell(row,ROLES_INDICES_LIST[i]).value\n        person[ROLES_LIST[i]] = roleCell\n    return person\n\nextractDataFromRow(19)\n\ndef getAllSubjectsData():\n    subjectDataList = []\n    for i in range(RESULTS_START, RESULTS_END + 1):\n        subjectData = extractDataFromRow(i)\n        if (subjectData is not None):\n            subjectDataList.append(subjectData)\n    return subjectDataList\n\n# print getAllSubjectsData()\n\nallSubjectsData = getAllSubjectsData()",
     "language": "python",
     "metadata": {},
     "outputs": [],
     "prompt_number": 54
    },
    {
     "cell_type": "code",
     "collapsed": false,
     "input": "# Values for Learning Style & Coordinated Perception of Themselves\n# Printing Averages for each of the Categories\n\n# Types of Individuals: Producer, Administrator, Entrepreneur, Integrator\n# Options: Always, Sometimes, Often, Not Often\n\n# Producer with Options\nprint \"Producer\"\n\nprint \"Producer, Always\"\nfor learningStyle in LEARNING_STYLE_LIST:\n    average = 0\n    notOftenCount = 0\n    \n    for subject in allSubjectsData:\n        Response = subject[learningStyle]\n        if subject[\"Producer\"] == \"Always\":\n            average += Response\n            notOftenCount += 1\n    if notOftenCount is 0:\n        print learningStyle + \": \" + str(0)\n    else:\n        average = float(average) / notOftenCount\n        average = round(average, 2)\n        print learningStyle + \": \" + str(average)\nprint\n\nprint \"Producer, Sometimes\"\nfor learningStyle in LEARNING_STYLE_LIST:\n    average = 0\n    notOftenCount = 0\n    \n    for subject in allSubjectsData:\n        Response = subject[learningStyle]\n        if subject[\"Producer\"] == \"Sometimes\":\n            average += Response\n            notOftenCount += 1\n    if notOftenCount is 0:\n        print learningStyle + \": \" + str(0)\n    else:\n        average = float(average) / notOftenCount\n        average = round(average, 2)\n        print learningStyle + \": \" + str(average)\nprint\n\n\nprint \"Producer, Often\"\nfor learningStyle in LEARNING_STYLE_LIST:\n    average = 0\n    notOftenCount = 0\n    \n    for subject in allSubjectsData:\n        Response = subject[learningStyle]\n        if subject[\"Producer\"] == \"Often\":\n            average += Response\n            notOftenCount += 1\n    if notOftenCount is 0:\n        print learningStyle + \": \" + str(0)\n    else:\n        average = float(average) / notOftenCount\n        average = round(average, 2)\n        print learningStyle + \": \" + str(average)\nprint\n\nprint \"Producer, Not Often\"\nfor learningStyle in LEARNING_STYLE_LIST:\n    average = 0\n    notOftenCount = 0\n    \n    for subject in allSubjectsData:\n        Response = subject[learningStyle]\n        if subject[\"Producer\"] == \"Not Often\":\n            average += Response\n            notOftenCount += 1\n    if notOftenCount is 0:\n        print learningStyle + \": \" + str(0)\n    else:\n        average = float(average) / notOftenCount\n        average = round(average, 2)\n        print learningStyle + \": \" + str(average)\nprint",
     "language": "python",
     "metadata": {},
     "outputs": [
      {
       "output_type": "stream",
       "stream": "stdout",
       "text": "Producer\nProducer, Always\nVisual: 6.75\nAural: 5.75\nRead/Write: 7.75\nKinesthetic: 5.75\n\nProducer, Sometimes\nVisual: 7.25\nAural: 6.31\nRead/Write: 6.19\nKinesthetic: 7.19\n\nProducer, Often\nVisual: 7.63\nAural: 8.0\nRead/Write: 8.75\nKinesthetic: 8.38\n\nProducer, Not Often\nVisual: 5.67\nAural: 6.67\nRead/Write: 4.67\nKinesthetic: 5.67\n\n"
      }
     ],
     "prompt_number": 55
    },
    {
     "cell_type": "code",
     "collapsed": false,
     "input": "# Administrator, with Options\nprint \"Administrator\"\n\nprint \"Administrator, Always\"\nfor learningStyle in LEARNING_STYLE_LIST:\n    average = 0\n    notOftenCount = 0\n    \n    for subject in allSubjectsData:\n        Response = subject[learningStyle]\n        if subject[\"Administrator\"] == \"Always\":\n            average += Response\n            notOftenCount += 1\n    if notOftenCount is 0:\n        print learningStyle + \": \" + str(0)\n    else:\n        average = float(average) / notOftenCount\n        average = round(average, 2)\n        print learningStyle + \": \" + str(average)\nprint\n\nprint \"Administrator, Sometimes\"\nfor learningStyle in LEARNING_STYLE_LIST:\n    average = 0\n    notOftenCount = 0\n    \n    for subject in allSubjectsData:\n        Response = subject[learningStyle]\n        if subject[\"Administrator\"] == \"Sometimes\":\n            average += Response\n            notOftenCount += 1\n    if notOftenCount is 0:\n        print learningStyle + \": \" + str(0)\n    else:\n        average = float(average) / notOftenCount\n        average = round(average, 2)\n        print learningStyle + \": \" + str(average)\nprint\n\nprint \"Administrator, Often\"\nfor learningStyle in LEARNING_STYLE_LIST:\n    average = 0\n    notOftenCount = 0\n    \n    for subject in allSubjectsData:\n        Response = subject[learningStyle]\n        if subject[\"Administrator\"] == \"Often\":\n            average += Response\n            notOftenCount += 1\n    if notOftenCount is 0:\n        print learningStyle + \": \" + str(0)\n    else:\n        average = float(average) / notOftenCount\n        average = round(average, 2)\n        print learningStyle + \": \" + str(average)\nprint\n\nprint \"Administrator, Not Often\"\nfor learningStyle in LEARNING_STYLE_LIST:\n    average = 0\n    notOftenCount = 0\n    \n    for subject in allSubjectsData:\n        Response = subject[learningStyle]\n        if subject[\"Administrator\"] == \"Not Often\":\n            average += Response\n            notOftenCount += 1\n    if notOftenCount is 0:\n        print learningStyle + \": \" + str(0)\n    else:\n        average = float(average) / notOftenCount\n        average = round(average, 2)\n        print learningStyle + \": \" + str(average)\nprint",
     "language": "python",
     "metadata": {},
     "outputs": [
      {
       "output_type": "stream",
       "stream": "stdout",
       "text": "Administrator\nAdministrator, Always\nVisual: 4.0\nAural: 3.0\nRead/Write: 11.0\nKinesthetic: 4.0\n\nAdministrator, Sometimes\nVisual: 5.38\nAural: 5.63\nRead/Write: 6.63\nKinesthetic: 7.25\n\nAdministrator, Often\nVisual: 7.91\nAural: 7.27\nRead/Write: 6.82\nKinesthetic: 7.27\n\nAdministrator, Not Often\nVisual: 0\nAural: 0\nRead/Write: 0\nKinesthetic: 0\n\n"
      }
     ],
     "prompt_number": 56
    },
    {
     "cell_type": "code",
     "collapsed": false,
     "input": "# Entrepreneur with Options\nprint \"Entrepreneur\"\n\nprint \"Entrepreneur, Always\"\nfor learningStyle in LEARNING_STYLE_LIST:\n    average = 0\n    notOftenCount = 0\n    \n    for subject in allSubjectsData:\n        Response = subject[learningStyle]\n        if subject[\"Entrepreneur\"] == \"Always\":\n            average += Response\n            notOftenCount += 1\n    if notOftenCount is 0:\n        print learningStyle + \": \" + str(0)\n    else:\n        average = float(average) / notOftenCount\n        average = round(average, 2)\n        print learningStyle + \": \" + str(average)\nprint\n\nprint \"Entrepreneur, Sometimes\"\nfor learningStyle in LEARNING_STYLE_LIST:\n    average = 0\n    notOftenCount = 0\n    \n    for subject in allSubjectsData:\n        Response = subject[learningStyle]\n        if subject[\"Entrepreneur\"] == \"Sometimes\":\n            average += Response\n            notOftenCount += 1\n    if notOftenCount is 0:\n        print learningStyle + \": \" + str(0)\n    else:\n        average = float(average) / notOftenCount\n        average = round(average, 2)\n        print learningStyle + \": \" + str(average)\nprint\n\nprint \"Entrepreneur, Often\"\nfor learningStyle in LEARNING_STYLE_LIST:\n    average = 0\n    notOftenCount = 0\n    \n    for subject in allSubjectsData:\n        Response = subject[learningStyle]\n        if subject[\"Entrepreneur\"] == \"Often\":\n            average += Response\n            notOftenCount += 1\n    if notOftenCount is 0:\n        print learningStyle + \": \" + str(0)\n    else:\n        average = float(average) / notOftenCount\n        average = round(average, 2)\n        print learningStyle + \": \" + str(average)\nprint\n\nprint \"Entrepreneur, Not Often\"\nfor learningStyle in LEARNING_STYLE_LIST:\n    average = 0\n    notOftenCount = 0\n    \n    for subject in allSubjectsData:\n        Response = subject[learningStyle]\n        if subject[\"Entrepreneur\"] == \"Not Often\":\n            average += Response\n            notOftenCount += 1\n    if notOftenCount is 0:\n        print learningStyle + \": \" + str(0)\n    else:\n        average = float(average) / notOftenCount\n        average = round(average, 2)\n        print learningStyle + \": \" + str(average)\nprint",
     "language": "python",
     "metadata": {},
     "outputs": [
      {
       "output_type": "stream",
       "stream": "stdout",
       "text": "Entrepreneur\nEntrepreneur, Always\nVisual: 12.0\nAural: 8.0\nRead/Write: 5.5\nKinesthetic: 8.0\n\nEntrepreneur, Sometimes\nVisual: 7.17\nAural: 5.58\nRead/Write: 6.17\nKinesthetic: 6.83\n\nEntrepreneur, Often\nVisual: 8.5\nAural: 8.67\nRead/Write: 7.17\nKinesthetic: 7.83\n\nEntrepreneur, Not Often\nVisual: 5.5\nAural: 7.0\nRead/Write: 7.7\nKinesthetic: 7.1\n\n"
      }
     ],
     "prompt_number": 57
    },
    {
     "cell_type": "code",
     "collapsed": false,
     "input": "# Integrator with Options\nprint \"Integrator\"\n\nprint \"Integrator, Always\"\nfor learningStyle in LEARNING_STYLE_LIST:\n    average = 0\n    notOftenCount = 0\n    \n    for subject in allSubjectsData:\n        Response = subject[learningStyle]\n        if subject[\"Integrator\"] == \"Always\":\n            average += Response\n            notOftenCount += 1\n    if notOftenCount is 0:\n        print learningStyle + \": \" + str(0)\n    else:\n        average = float(average) / notOftenCount\n        average = round(average, 2)\n        print learningStyle + \": \" + str(average)\nprint\n\nprint \"Integrator, Sometimes\"\nfor learningStyle in LEARNING_STYLE_LIST:\n    average = 0\n    notOftenCount = 0\n    \n    for subject in allSubjectsData:\n        Response = subject[learningStyle]\n        if subject[\"Integrator\"] == \"Sometimes\":\n            average += Response\n            notOftenCount += 1\n    if notOftenCount is 0:\n        print learningStyle + \": \" + str(0)\n    else:\n        average = float(average) / notOftenCount\n        average = round(average, 2)\n        print learningStyle + \": \" + str(average)\nprint\n\nprint \"Integrator, Often\"\nfor learningStyle in LEARNING_STYLE_LIST:\n    average = 0\n    notOftenCount = 0\n    \n    for subject in allSubjectsData:\n        Response = subject[learningStyle]\n        if subject[\"Integrator\"] == \"Often\":\n            average += Response\n            notOftenCount += 1\n    if notOftenCount is 0:\n        print learningStyle + \": \" + str(0)\n    else:\n        average = float(average) / notOftenCount\n        average = round(average, 2)\n        print learningStyle + \": \" + str(average)\nprint\n\nprint \"Integrator, Not Often\"\nfor learningStyle in LEARNING_STYLE_LIST:\n    average = 0\n    notOftenCount = 0\n    \n    for subject in allSubjectsData:\n        Response = subject[learningStyle]\n        if subject[\"Integrator\"] == \"Not Often\":\n            average += Response\n            notOftenCount += 1\n    if notOftenCount is 0:\n        print learningStyle + \": \" + str(0)\n    else:\n        average = float(average) / notOftenCount\n        average = round(average, 2)\n        print learningStyle + \": \" + str(average)",
     "language": "python",
     "metadata": {},
     "outputs": [
      {
       "output_type": "stream",
       "stream": "stdout",
       "text": "Integrator\nIntegrator, Always\nVisual: 3.0\nAural: 5.0\nRead/Write: 4.0\nKinesthetic: 7.0\n\nIntegrator, Sometimes\nVisual: 7.21\nAural: 6.93\nRead/Write: 6.43\nKinesthetic: 7.71\n\nIntegrator, Often\nVisual: 5.4\nAural: 6.4\nRead/Write: 7.8\nKinesthetic: 7.0\n\nIntegrator, Not Often\nVisual: 8.56\nAural: 7.78\nRead/Write: 7.11\nKinesthetic: 6.78\n"
      }
     ],
     "prompt_number": 58
    },
    {
     "cell_type": "code",
     "collapsed": false,
     "input": "# Average Values Across the Entire Class, Learning Styles\nprint \"Class Averages, Learning Styles\"\n\nprint \"Visual\"\nfor subject in allSubjectsData:\n    average = 0\n    Response = subject[\"Visual\"]\n    Response = round(Response, 2)\nprint Response\nprint\n\nprint \"Aural\"\nfor subject in allSubjectsData:\n    average = 0\n    Response = subject[\"Aural\"]\n    Response = round(Response, 2)\nprint Response\nprint\n\nprint \"Read/Write\"\nfor subject in allSubjectsData:\n    average = 0\n    Response = subject[\"Read/Write\"]\n    Response = round(Response, 2)\nprint Response\nprint\n\nprint \"Kinesthetic\"\nfor subject in allSubjectsData:\n    average = 0\n    Response = subject[\"Kinesthetic\"]\n    Response = round(Response, 2)\nprint Response",
     "language": "python",
     "metadata": {},
     "outputs": [
      {
       "output_type": "stream",
       "stream": "stdout",
       "text": "Class Averages, Learning Styles\nVisual\n2.0\n\nAural\n6.0\n\nRead/Write\n4.0\n\nKinesthetic\n4.0\n"
      }
     ],
     "prompt_number": 59
    },
    {
     "cell_type": "code",
     "collapsed": false,
     "input": "",
     "language": "python",
     "metadata": {},
     "outputs": []
    }
   ],
   "metadata": {}
  }
 ]
}