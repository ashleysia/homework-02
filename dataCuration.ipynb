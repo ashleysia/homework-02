{
 "metadata": {
  "name": "Stat157_Hw2_Data_Curation"
 },
 "nbformat": 3,
 "nbformat_minor": 0,
 "worksheets": [
  {
   "cells": [
    {
     "cell_type": "code",
     "collapsed": false,
     "input": [
      "import gspread\n",
      "gc = gspread.login('x_sherry_xia@berkeley.edu', '$YkWlyf$bh@8')\n",
      "gc.login()\n",
      "\n",
      "rawQuestionnaireResults = gc.open('Copy of Stat 157 Questionnaire (Results Redacted)').sheet1\n",
      "print rawQuestionnaireResults"
     ],
     "language": "python",
     "metadata": {},
     "outputs": [
      {
       "output_type": "stream",
       "stream": "stdout",
       "text": [
        "<Worksheet 'Form Responses' id:od6>\n"
       ]
      }
     ],
     "prompt_number": 1
    },
    {
     "cell_type": "code",
     "collapsed": false,
     "input": [
      "learningStyleQuestionCell = rawQuestionnaireResults.find(\"What is your learning style?\")\n",
      "learningStyleList = rawQuestionnaireResults.col_values(learningStyleQuestionCell.col)\n",
      "print len(learningStyleList)\n",
      "#print learningStyleList\n",
      "\n",
      "RESULTS_END = len(learningStyleList)\n",
      "RESULTS_START = 3"
     ],
     "language": "python",
     "metadata": {},
     "outputs": [
      {
       "output_type": "stream",
       "stream": "stdout",
       "text": [
        "49\n"
       ]
      }
     ],
     "prompt_number": 10
    },
    {
     "cell_type": "code",
     "collapsed": false,
     "input": [
      "LEARNING_STYLE_COLUMN_INDEX = 12\n",
      "\n",
      "LEARNING_STYLE_LIST = ['Visual', 'Aural', 'Read/Write', 'Kinesthetic']\n",
      "ROLES_LIST = ['Producer', 'Administrator', 'Entrepreneur', 'Integrator']\n",
      "ROLES_INDICES_LIST = [13, 14, 15, 16]\n",
      "\n",
      "import re\n",
      "\n",
      "def extractDataFromRow(row):\n",
      "    learningStyleCell = rawQuestionnaireResults.cell(row, LEARNING_STYLE_COLUMN_INDEX).value\n",
      "    if learningStyleCell == None:\n",
      "        return None\n",
      "    styleScores = re.findall('[0-9]+', learningStyleCell)\n",
      "    if len(styleScores) != 4:\n",
      "        return None\n",
      "    person = dict()\n",
      "    for i in range(len(LEARNING_STYLE_LIST)):\n",
      "        person[LEARNING_STYLE_LIST[i]] = int(styleScores[i])\n",
      "    for i in range(len(ROLES_INDICES_LIST)):\n",
      "        roleCell = rawQuestionnaireResults.cell(row,ROLES_INDICES_LIST[i]).value\n",
      "        person[ROLES_LIST[i]] = roleCell\n",
      "    print person\n",
      "\n",
      "extractDataFromRow(19)\n",
      "\n",
      "#for i in range(RESULTS_START, RESULTS_END + 1):\n",
      "#    print i\n",
      "#    extractDataFromRow(i)"
     ],
     "language": "python",
     "metadata": {},
     "outputs": [
      {
       "output_type": "stream",
       "stream": "stdout",
       "text": [
        "{'Administrator': 'Often', 'Producer': 'Sometimes', 'Integrator': 'Sometimes', 'Kinesthetic': 13, 'Read/Write': 2, 'Entrepreneur': 'Not Often', 'Visual': 10, 'Aural': 10}\n"
       ]
      }
     ],
     "prompt_number": 39
    },
    {
     "cell_type": "code",
     "collapsed": false,
     "input": [
      "     "
     ],
     "language": "python",
     "metadata": {},
     "outputs": [],
     "prompt_number": 36
    },
    {
     "cell_type": "code",
     "collapsed": false,
     "input": [],
     "language": "python",
     "metadata": {},
     "outputs": [],
     "prompt_number": 13
    },
    {
     "cell_type": "code",
     "collapsed": false,
     "input": [],
     "language": "python",
     "metadata": {},
     "outputs": []
    }
   ],
   "metadata": {}
  }
 ]
}